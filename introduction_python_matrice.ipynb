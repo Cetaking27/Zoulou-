{
 "metadata": {
  "language_info": {
   "codemirror_mode": {
    "name": "ipython",
    "version": 3
   },
   "file_extension": ".py",
   "mimetype": "text/x-python",
   "name": "python",
   "nbconvert_exporter": "python",
   "pygments_lexer": "ipython3",
   "version": "3.9.0"
  },
  "orig_nbformat": 4,
  "kernelspec": {
   "name": "python3",
   "display_name": "Python 3.9.0 64-bit"
  },
  "interpreter": {
   "hash": "ee5cc6fef2d70a7e71ee3826687cbd150f18158e0b1eef11d4f4f92bb920e304"
  }
 },
 "nbformat": 4,
 "nbformat_minor": 2,
 "cells": [
  {
   "cell_type": "code",
   "execution_count": 1,
   "metadata": {},
   "outputs": [],
   "source": [
    "import numpy as np \n",
    "\n"
   ]
  },
  {
   "cell_type": "code",
   "execution_count": 16,
   "metadata": {},
   "outputs": [
    {
     "output_type": "execute_result",
     "data": {
      "text/plain": [
       "24"
      ]
     },
     "metadata": {},
     "execution_count": 16
    }
   ],
   "source": [
    "#les attributs qui composent la calsse ndarray \n",
    "data = np.array([[1,3],[5,6],[4,6]])\n",
    "type(data)\n",
    "data\n",
    "data.ndim #connaitre le nombre de  dimensions des axes\n",
    "data.shape #le tuple qui contient le nombre d'elements pour chaque dimension du tableau\n",
    "data.size #le nombre de dimensions(axes) \n",
    "data.dtype #le types de data des elements \n",
    "data.nbytes #l'espace qu'occupe les elements du tableau\n",
    "#autres formes d'ecriture de la classe ndarray:\n",
    "# data = np.ndarray(ndim = , dtype = , shape = ,nbytes = , size = ,) "
   ]
  },
  {
   "cell_type": "code",
   "execution_count": 38,
   "metadata": {},
   "outputs": [
    {
     "output_type": "stream",
     "name": "stdout",
     "text": [
      "[1 2 3 5 6]\n[1. 2. 3. 5. 6.]\n[1.+0.j 2.+0.j 3.+0.j 5.+0.j 6.+0.j]\n[ 2.+0.j  4.+0.j  6.+0.j 10.+0.j 12.+0.j]\n"
     ]
    },
    {
     "output_type": "execute_result",
     "data": {
      "text/plain": [
       "array([0.        +1.41421356j, 0.        +0.j        ,\n",
       "       2.23606798+0.j        , 2.44948974+0.j        ])"
      ]
     },
     "metadata": {},
     "execution_count": 38
    }
   ],
   "source": [
    "#description basics de chaque attribut: attribut data.type (dtype)\n",
    "#   int (int8, int16, int32, int64) as integers\n",
    "#   uint (uint8, uint16, uint32, uint64) as unsigned(negative) integer\n",
    "#   bool (Bool) as boolean(True or False )\n",
    "#   float (float16, float32, float64, float128) as floating-point numbers\n",
    "#   complex( complex64, complex128, complex256) as complex-valued floating-point numbers \n",
    "a = np.array([1,2,3,5,6], dtype=np.int)\n",
    "b = np.array([1,2,3,5,6], dtype = np.float)\n",
    "c = np.array([1,2,3,5,6], dtype = np.complex)\n",
    "print(a)\n",
    "print(b)\n",
    "print(c)\n",
    "#operation addition\n",
    "d = (b+c)\n",
    "print(d)\n",
    "#operation puissance \n",
    "e = np.sqrt(np.array([-2,0,5, 6], dtype = np.complex)) #il est souvent important de mentionner le type d'ensemble choisi pour  faire loperation.\n",
    "e\n"
   ]
  },
  {
   "cell_type": "code",
   "execution_count": null,
   "metadata": {},
   "outputs": [],
   "source": []
  }
 ]
}