{
 "metadata": {
  "language_info": {
   "codemirror_mode": {
    "name": "ipython",
    "version": 3
   },
   "file_extension": ".py",
   "mimetype": "text/x-python",
   "name": "python",
   "nbconvert_exporter": "python",
   "pygments_lexer": "ipython3",
   "version": "3.9.0"
  },
  "orig_nbformat": 2,
  "kernelspec": {
   "name": "python390jvsc74a57bd0ee5cc6fef2d70a7e71ee3826687cbd150f18158e0b1eef11d4f4f92bb920e304",
   "display_name": "Python 3.9.0 64-bit"
  },
  "metadata": {
   "interpreter": {
    "hash": "ee5cc6fef2d70a7e71ee3826687cbd150f18158e0b1eef11d4f4f92bb920e304"
   }
  }
 },
 "nbformat": 4,
 "nbformat_minor": 2,
 "cells": [
  {
   "cell_type": "code",
   "execution_count": 1,
   "metadata": {},
   "outputs": [],
   "source": [
    "import numpy as np \n",
    "import matplotlib.pyplot as plt \n",
    "import math\n",
    "from random import randint"
   ]
  },
  {
   "cell_type": "code",
   "execution_count": 7,
   "metadata": {},
   "outputs": [
    {
     "output_type": "execute_result",
     "data": {
      "text/plain": [
       "array([[4.09519439e-04, 3.58133464e-01, 3.70659779e-01, 1.72992290e-01],\n",
       "       [3.89765093e-01, 3.22905236e-01, 2.44033150e-01, 3.34012724e-01],\n",
       "       [6.69568958e-01, 1.81958186e-01, 6.18297961e-01, 1.83425911e-02],\n",
       "       [8.04861627e-01, 4.25093288e-02, 6.19597492e-01, 9.68614968e-01],\n",
       "       [1.03264431e-01, 8.50873079e-01, 6.52969831e-01, 8.75203750e-01],\n",
       "       [8.72908560e-02, 1.06005252e-01, 4.10167064e-01, 2.86907683e-01],\n",
       "       [2.23199457e-01, 1.40202586e-01, 6.03986589e-01, 2.64221409e-01],\n",
       "       [1.51303768e-01, 2.10685348e-01, 3.18400786e-01, 4.67715330e-01],\n",
       "       [4.25089066e-01, 3.28457451e-01, 4.79703234e-01, 2.57826964e-02],\n",
       "       [3.95048245e-01, 2.61536049e-01, 5.24119017e-01, 5.40983603e-01]])"
      ]
     },
     "metadata": {},
     "execution_count": 7
    }
   ],
   "source": [
    "a = np.random.random([10, 4])\n",
    "a"
   ]
  },
  {
   "cell_type": "code",
   "execution_count": 16,
   "metadata": {},
   "outputs": [
    {
     "output_type": "execute_result",
     "data": {
      "text/plain": [
       "8"
      ]
     },
     "metadata": {},
     "execution_count": 16
    }
   ],
   "source": [
    "a = np.random.randint(1, 10)\n",
    "a"
   ]
  },
  {
   "cell_type": "code",
   "execution_count": 24,
   "metadata": {},
   "outputs": [
    {
     "output_type": "execute_result",
     "data": {
      "text/plain": [
       "array([[0., 0., 0., 0., 0.],\n",
       "       [0., 0., 0., 0., 0.],\n",
       "       [0., 0., 0., 0., 0.],\n",
       "       [0., 0., 0., 0., 0.],\n",
       "       [0., 0., 0., 0., 0.],\n",
       "       [0., 0., 0., 0., 0.],\n",
       "       [0., 0., 0., 0., 0.],\n",
       "       [0., 0., 0., 0., 0.],\n",
       "       [0., 0., 0., 0., 0.],\n",
       "       [0., 0., 0., 0., 0.]])"
      ]
     },
     "metadata": {},
     "execution_count": 24
    }
   ],
   "source": [
    "a = np.zeros([10,5])\n",
    "a      "
   ]
  },
  {
   "cell_type": "code",
   "execution_count": 38,
   "metadata": {},
   "outputs": [
    {
     "output_type": "execute_result",
     "data": {
      "text/plain": [
       "25"
      ]
     },
     "metadata": {},
     "execution_count": 38
    }
   ],
   "source": [
    "a = np.random.randint(1,100)\n",
    "a "
   ]
  },
  {
   "cell_type": "code",
   "execution_count": null,
   "metadata": {},
   "outputs": [],
   "source": []
  }
 ]
}