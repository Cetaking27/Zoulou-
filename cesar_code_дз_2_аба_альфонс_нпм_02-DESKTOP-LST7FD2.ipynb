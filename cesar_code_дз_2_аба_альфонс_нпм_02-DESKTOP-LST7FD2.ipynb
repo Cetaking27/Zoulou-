{
 "cells": [
  {
   "cell_type": "code",
   "execution_count": 13,
   "metadata": {},
   "outputs": [],
   "source": [
    "#Algorithm\n",
    "#To implement this cipher technique, we need a few simple steps:\n",
    "#1)Identify the character in the sentence.\n",
    "#2)Find its position inside the alphabet. If not found, just repeat it.\n",
    "#3)Substitute it by the character that it is in index + key inside our alphabet.\n",
    "#4)Create a new sentence with the new characters instead of the old ones.\n",
    "#5)Repeat until the end of the sentence.\n",
    "#6)Return the result.\n",
    "#Note: in case of index + key is greater than the length of our alphabet, we go back to the beginning.\n",
    "#Note 2: to decode this message, we simply shift it in opposite direction, i.e, index — key.\n",
    "#ШИФР СЕЦАР\n",
    "#1 зашифрованное :\n",
    "def encrypt_caesar(plaintext: str, shift: int = 3) -> str:\n",
    "   \n",
    "    ciphertext = \"\"\n",
    "    # PUT YOUR CODE HERE\n",
    "    return ciphertext\n"
   ]
  },
  {
   "cell_type": "code",
   "execution_count": 14,
   "metadata": {},
   "outputs": [],
   "source": [
    "#2 рашрифрованное :\n",
    "def decrypt_caesar(ciphertext: str, shift: int = 3) -> str:\n",
    "    plaintext = \"\"\n",
    "    # PUT YOUR CODE HERE\n",
    "    return plaintext"
   ]
  },
  {
   "cell_type": "code",
   "execution_count": 59,
   "metadata": {},
   "outputs": [
    {
     "name": "stdout",
     "output_type": "stream",
     "text": [
      "S\\WKRQ \n"
     ]
    }
   ],
   "source": [
    "#польный код заширофки и рашрирофкм сецар\n",
    "def encrypt_caesar(Plaintext: str,shift: int) -> str:\n",
    "    ciphertext = ''\n",
    "\n",
    "    try:\n",
    "        for char in Plaintext:\n",
    "            ciphertext += str(chr(ord(char)+int(shift)))\n",
    "    except:\n",
    "        print(Exception)\n",
    "        pass\n",
    "    \n",
    "    return ciphertext\n",
    "\n",
    "def decrypt_caesar(ciphertext: str,shift: int) -> str:\n",
    "    plaintext = ''\n",
    "\n",
    "    try:\n",
    "        for char in plaintext:\n",
    "            plaintext += chr(ord(char)-int(shift))\n",
    "    except:\n",
    "        print(Exception)\n",
    "        pass\n",
    "\n",
    "    return plaintext\n",
    "\n",
    "  \n",
    "a = encrypt_caesar(\"PYTHON\", shift=3)\n",
    "b = decrypt_caesar(a, shift=4)\n",
    "print (a, b)"
   ]
  },
  {
   "cell_type": "code",
   "execution_count": 26,
   "metadata": {},
   "outputs": [
    {
     "ename": "NameError",
     "evalue": "name 'tp' is not defined",
     "output_type": "error",
     "traceback": [
      "\u001b[1;31m---------------------------------------------------------------------------\u001b[0m",
      "\u001b[1;31mNameError\u001b[0m                                 Traceback (most recent call last)",
      "\u001b[1;32m<ipython-input-26-05ae4489ac6e>\u001b[0m in \u001b[0;36m<module>\u001b[1;34m\u001b[0m\n\u001b[0;32m      1\u001b[0m \u001b[1;31m#3 взлома шифра :\u001b[0m\u001b[1;33m\u001b[0m\u001b[1;33m\u001b[0m\u001b[1;33m\u001b[0m\u001b[0m\n\u001b[1;32m----> 2\u001b[1;33m \u001b[1;32mdef\u001b[0m \u001b[0mcaesar_breaker\u001b[0m\u001b[1;33m(\u001b[0m\u001b[0mciphertext\u001b[0m\u001b[1;33m:\u001b[0m \u001b[0mstr\u001b[0m\u001b[1;33m,\u001b[0m \u001b[0mdictionary\u001b[0m\u001b[1;33m:\u001b[0m \u001b[0mtp\u001b[0m\u001b[1;33m.\u001b[0m\u001b[0mSet\u001b[0m\u001b[1;33m[\u001b[0m\u001b[0mstr\u001b[0m\u001b[1;33m]\u001b[0m\u001b[1;33m)\u001b[0m \u001b[1;33m->\u001b[0m \u001b[0mint\u001b[0m\u001b[1;33m:\u001b[0m\u001b[1;33m\u001b[0m\u001b[1;33m\u001b[0m\u001b[0m\n\u001b[0m\u001b[0;32m      3\u001b[0m    \u001b[0mciphertext\u001b[0m \u001b[1;33m=\u001b[0m \u001b[1;34m''\u001b[0m\u001b[1;33m\u001b[0m\u001b[1;33m\u001b[0m\u001b[0m\n\u001b[0;32m      4\u001b[0m    \u001b[0mplaintext\u001b[0m \u001b[1;33m=\u001b[0m \u001b[1;34m''\u001b[0m\u001b[1;33m\u001b[0m\u001b[1;33m\u001b[0m\u001b[0m\n\u001b[0;32m      5\u001b[0m    \u001b[0mbest_shift\u001b[0m \u001b[1;33m=\u001b[0m \u001b[1;36m0\u001b[0m\u001b[1;33m\u001b[0m\u001b[1;33m\u001b[0m\u001b[0m\n",
      "\u001b[1;31mNameError\u001b[0m: name 'tp' is not defined"
     ]
    }
   ],
   "source": [
    " #3 взлома шифра :\n",
    " def caesar_breaker(ciphertext: str, dictionary: tp.Set[str]) -> int:\n",
    "    ciphertext = ''\n",
    "    plaintext = ''\n",
    "    best_shift = 0\n",
    "    for i in plaintext:\n",
    "       if i.lower() in encrypt_caesar:\n",
    "          best_shift = encrypt_caesar.index(i) + shift \n",
    "          ciphertext += encrypt_caesar[best_shift % 26]\n",
    "       else:\n",
    "         ciphertext += i\n",
    "    return best_shift"
   ]
  },
  {
   "cell_type": "code",
   "execution_count": null,
   "metadata": {},
   "outputs": [],
   "source": []
  }
 ],
 "metadata": {
  "interpreter": {
   "hash": "ee5cc6fef2d70a7e71ee3826687cbd150f18158e0b1eef11d4f4f92bb920e304"
  },
  "kernelspec": {
   "display_name": "Python 3.9.0 64-bit",
   "name": "python3"
  },
  "language_info": {
   "codemirror_mode": {
    "name": "ipython",
    "version": 3
   },
   "file_extension": ".py",
   "mimetype": "text/x-python",
   "name": "python",
   "nbconvert_exporter": "python",
   "pygments_lexer": "ipython3",
   "version": "3.9.0"
  },
  "orig_nbformat": 4
 },
 "nbformat": 4,
 "nbformat_minor": 2
}
