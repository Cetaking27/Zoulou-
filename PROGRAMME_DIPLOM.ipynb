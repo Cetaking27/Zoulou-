{
 "cells": [
  {
   "cell_type": "code",
   "execution_count": 2,
   "metadata": {},
   "outputs": [],
   "source": [
    "import numpy as np\n",
    "import matplotlib.pyplot as plt\n",
    "from sympy import * \n",
    "plt.style.use('seaborn-poster')\n",
    "%matplotlib inline"
   ]
  },
  {
   "cell_type": "code",
   "execution_count": 66,
   "metadata": {},
   "outputs": [
    {
     "ename": "TypeError",
     "evalue": "unsupported operand type(s) for *: 'Mul' and 'function'",
     "output_type": "error",
     "traceback": [
      "\u001b[1;31m---------------------------------------------------------------------------\u001b[0m",
      "\u001b[1;31mTypeError\u001b[0m                                 Traceback (most recent call last)",
      "\u001b[1;32mc:\\Users\\alpho\\Desktop\\king programming\\PROGRAMME_DIPLOM.ipynb Cell 2'\u001b[0m in \u001b[0;36m<cell line: 24>\u001b[1;34m()\u001b[0m\n\u001b[0;32m     <a href='vscode-notebook-cell:/c%3A/Users/alpho/Desktop/king%20programming/PROGRAMME_DIPLOM.ipynb#ch0000017?line=20'>21</a>\u001b[0m x \u001b[39m=\u001b[39m symbols(\u001b[39m'\u001b[39m\u001b[39mx\u001b[39m\u001b[39m'\u001b[39m)\n\u001b[0;32m     <a href='vscode-notebook-cell:/c%3A/Users/alpho/Desktop/king%20programming/PROGRAMME_DIPLOM.ipynb#ch0000017?line=21'>22</a>\u001b[0m P0,P1,P2,Pn \u001b[39m=\u001b[39m symbols(\u001b[39m\"\u001b[39m\u001b[39mP0,P1,P2,Pn\u001b[39m\u001b[39m\"\u001b[39m, \u001b[39mcls\u001b[39m\u001b[39m=\u001b[39mFunction)\n\u001b[0;32m     <a href='vscode-notebook-cell:/c%3A/Users/alpho/Desktop/king%20programming/PROGRAMME_DIPLOM.ipynb#ch0000017?line=22'>23</a>\u001b[0m eqs \u001b[39m=\u001b[39m [\n\u001b[0;32m     <a href='vscode-notebook-cell:/c%3A/Users/alpho/Desktop/king%20programming/PROGRAMME_DIPLOM.ipynb#ch0000017?line=23'>24</a>\u001b[0m     Eq(P1(x)\u001b[39m.\u001b[39mdiff(x), \u001b[39m-\u001b[39m(lamda)\u001b[39m*\u001b[39mP0(x) \u001b[39m+\u001b[39m \u001b[39m2\u001b[39m\u001b[39m*\u001b[39m(mu)\u001b[39m*\u001b[39mP1(x)), \n\u001b[1;32m---> <a href='vscode-notebook-cell:/c%3A/Users/alpho/Desktop/king%20programming/PROGRAMME_DIPLOM.ipynb#ch0000017?line=24'>25</a>\u001b[0m     Eq(P1(x)\u001b[39m.\u001b[39mdiff(x), \u001b[39m-\u001b[39m(mu \u001b[39m+\u001b[39m lamda)\u001b[39m*\u001b[39mP1(x) \u001b[39m+\u001b[39m \u001b[39m2\u001b[39;49m\u001b[39m*\u001b[39;49m(mu)\u001b[39m*\u001b[39;49mP2(x)\u001b[39m*\u001b[39;49mQ \u001b[39m+\u001b[39m \u001b[39m2\u001b[39m \u001b[39m*\u001b[39m (mu)\u001b[39m*\u001b[39mPn(x) \u001b[39m*\u001b[39m Q),\n\u001b[0;32m     <a href='vscode-notebook-cell:/c%3A/Users/alpho/Desktop/king%20programming/PROGRAMME_DIPLOM.ipynb#ch0000017?line=25'>26</a>\u001b[0m     Eq(Pn(x)\u001b[39m.\u001b[39mdiff(x), \u001b[39m-\u001b[39m(\u001b[39m2\u001b[39m\u001b[39m*\u001b[39m(mu) \u001b[39m+\u001b[39m lamda)\u001b[39m*\u001b[39mPn(x) \u001b[39m+\u001b[39m \u001b[39m2\u001b[39m\u001b[39m*\u001b[39mmu\u001b[39m*\u001b[39mP(x) \u001b[39m+\u001b[39m \u001b[39m2\u001b[39m\u001b[39m*\u001b[39mmu\u001b[39m*\u001b[39mPn(x)\u001b[39m*\u001b[39mq)]\n\u001b[0;32m     <a href='vscode-notebook-cell:/c%3A/Users/alpho/Desktop/king%20programming/PROGRAMME_DIPLOM.ipynb#ch0000017?line=26'>27</a>\u001b[0m func \u001b[39m=\u001b[39m [P1(x),P2(x),Pn(x)]\n\u001b[0;32m     <a href='vscode-notebook-cell:/c%3A/Users/alpho/Desktop/king%20programming/PROGRAMME_DIPLOM.ipynb#ch0000017?line=27'>28</a>\u001b[0m order \u001b[39m=\u001b[39m \u001b[39m1\u001b[39m\n",
      "\u001b[1;31mTypeError\u001b[0m: unsupported operand type(s) for *: 'Mul' and 'function'"
     ]
    }
   ],
   "source": [
    "#coef1 = -lamda(x)\n",
    "         #coef2 = mu \n",
    "         #coef3 = -(mu+lamda)\n",
    "         #coef4 = n*mu for n=2\n",
    "         #coef5 = -(n*mu + lamda)\n",
    "         #dP1/dx=coef1*P1 + coef2*P2\n",
    "         #dP2/dx=coef3*P2 + coef4*sum(Pn)*Q: while n move from 3 to 11\n",
    "         #dPn/dx = coef5*Pn + coef4*sum(Pn)*Q : while n move from 2 to 10\n",
    "from sympy.solvers.ode.systems import linear_ode_to_matrix\n",
    "def dF_matrix():\n",
    "    n = A.size\n",
    "    dF_matrix=np.zeros((4,4))\n",
    "    return dF_matrix\n",
    "def Q():\n",
    "    q =np.linspace(0,n+1)\n",
    "    for i in range(len(q)):\n",
    "        if q==i:\n",
    "            Q=q+1\n",
    "        else:\n",
    "            return Q\n",
    "x = symbols('x')\n",
    "P0,P1,P2,Pn = symbols(\"P0,P1,P2,Pn\", cls=Function)\n",
    "eqs = [\n",
    "    Eq(P1(x).diff(x), -(lamda)*P0(x) + 2*(mu)*P1(x)), \n",
    "    Eq(P1(x).diff(x), -(mu + lamda)*P1(x) + 2*(mu)*P2(x)*Q + 2*(mu)*Pn(x)*Q),\n",
    "    Eq(Pn(x).diff(x), -(2*(mu) + lamda)*Pn(x) + 2*mu*P(x) + 2*mu*Pn(x)*q)]\n",
    "func = [P1(x),P2(x),Pn(x)]\n",
    "order = 1\n",
    "dF_matrix = linear_eq_to_matrix(eqs,func,x,order)\n",
    "dF_matrix"
   ]
  },
  {
   "cell_type": "code",
   "execution_count": 3,
   "metadata": {},
   "outputs": [],
   "source": [
    "def a(A,x):\n",
    "    dA=sm.diff(A,x) # If you solve using sympy. And if \n",
    "    return dA \n",
    "def lmbd(a, A, x):\n",
    "    l = a/(1-A) #solves lambda for every expression in matrix\n",
    "    return l "
   ]
  },
  {
   "cell_type": "code",
   "execution_count": 57,
   "metadata": {},
   "outputs": [
    {
     "ename": "TypeError",
     "evalue": "'Add' object is not callable",
     "output_type": "error",
     "traceback": [
      "\u001b[1;31m---------------------------------------------------------------------------\u001b[0m",
      "\u001b[1;31mTypeError\u001b[0m                                 Traceback (most recent call last)",
      "\u001b[1;32mc:\\Users\\alpho\\Desktop\\king programming\\PROGRAMME_DIPLOM.ipynb Cell 4'\u001b[0m in \u001b[0;36m<cell line: 8>\u001b[1;34m()\u001b[0m\n\u001b[0;32m      <a href='vscode-notebook-cell:/c%3A/Users/alpho/Desktop/king%20programming/PROGRAMME_DIPLOM.ipynb#ch0000013?line=5'>6</a>\u001b[0m K,L,M,J \u001b[39m=\u001b[39m symbols(\u001b[39m\"\u001b[39m\u001b[39mK,L,M,J\u001b[39m\u001b[39m\"\u001b[39m)\n\u001b[0;32m      <a href='vscode-notebook-cell:/c%3A/Users/alpho/Desktop/king%20programming/PROGRAMME_DIPLOM.ipynb#ch0000013?line=6'>7</a>\u001b[0m funcs \u001b[39m=\u001b[39m [P_0(x),P_1(x),P_n(x)]\n\u001b[1;32m----> <a href='vscode-notebook-cell:/c%3A/Users/alpho/Desktop/king%20programming/PROGRAMME_DIPLOM.ipynb#ch0000013?line=7'>8</a>\u001b[0m eqs \u001b[39m=\u001b[39m [Eq(P_0(x)\u001b[39m.\u001b[39mdiff(x) \u001b[39m+\u001b[39m K\u001b[39m*\u001b[39mP_0(x), L\u001b[39m*\u001b[39mP_1(x)), Eq(P_1(x)\u001b[39m.\u001b[39mdiff(x) \u001b[39m+\u001b[39m M\u001b[39m*\u001b[39mP_1(x), Y(x)), Eq(P_n(x)\u001b[39m.\u001b[39mdiff(x) \u001b[39m+\u001b[39m J\u001b[39m*\u001b[39mP_n(x), V(x))]\n\u001b[0;32m      <a href='vscode-notebook-cell:/c%3A/Users/alpho/Desktop/king%20programming/PROGRAMME_DIPLOM.ipynb#ch0000013?line=8'>9</a>\u001b[0m eqs \u001b[39m=\u001b[39m canonical_odes(eqs, funcs, x)\n\u001b[0;32m     <a href='vscode-notebook-cell:/c%3A/Users/alpho/Desktop/king%20programming/PROGRAMME_DIPLOM.ipynb#ch0000013?line=9'>10</a>\u001b[0m eqs \u001b[39m=\u001b[39m eqs[\u001b[39m0\u001b[39m]\n",
      "\u001b[1;31mTypeError\u001b[0m: 'Add' object is not callable"
     ]
    }
   ],
   "source": [
    "from sympy import symbols, Function, Eq\n",
    "from sympy.solvers.ode.systems import canonical_odes, linear_ode_to_matrix, linodesolve, linodesolve_type\n",
    "from sympy.solvers.ode.subscheck import checkodesol\n",
    "P_0, P_1, P_n = symbols(\"P_0, P_1,P_n\" , cls=Function)\n",
    "x = symbols('x')\n",
    "K,L,M,J = symbols(\"K,L,M,J\")\n",
    "funcs = [P_0(x),P_1(x),P_n(x)]\n",
    "eqs = [Eq(P_0(x).diff(x) + K*P_0(x), L*P_1(x)), Eq(P_1(x).diff(x) + M*P_1(x), Y(x)), Eq(P_n(x).diff(x) + J*P_n(x), V(x))]\n",
    "eqs = canonical_odes(eqs, funcs, x)\n",
    "eqs = eqs[0]\n",
    "(A1, A0), b = linear_ode_to_matrix( eqs, funcs,x, 1)\n",
    "A = A0\n",
    "system_info = linodesolve_type(A, x, b=b)\n",
    "sol_vector = linodesolve(A, x, b=b)\n",
    "\n",
    "\n",
    "\n"
   ]
  },
  {
   "cell_type": "code",
   "execution_count": null,
   "metadata": {},
   "outputs": [],
   "source": []
  },
  {
   "cell_type": "code",
   "execution_count": 56,
   "metadata": {},
   "outputs": [],
   "source": [
    "import numpy as np\n",
    "\n",
    "#####################################################################################\n",
    "# DEF func\n",
    "#####################################################################################\n",
    "def func(y,t):\n",
    "\n",
    "    n=y.size\n",
    "    f=np.zeros(6)\n",
    "\n",
    "    xp=np.array([y[3],y[4],y[5]])[np.newaxis]\n",
    "\n",
    "    mass=1.\n",
    "    F1=0.\n",
    "    F2=0.\n",
    "    F3=-mass*9.8\n",
    "    F=np.array([F1,F2,F3])[np.newaxis]\n",
    "\n",
    "    phix=2.*y[0]\n",
    "    phiy=2.*y[1]\n",
    "    phiz=2.*y[2]\n",
    "    G=np.array([phix,phiy,phiz])[np.newaxis]\n",
    "\n",
    "    H=2.*np.eye(3)\n",
    "    lambd=(mass*np.dot(xp,np.dot(H,xp.T))+np.dot(F,G.T))/np.dot(G,G.T)\n",
    "\n",
    "    f[0]=y[3]\n",
    "    f[1]=y[4]\n",
    "    f[2]=y[5]\n",
    "    for k in range(0,3):\n",
    "        f[k+3]=(F[0,k]-lambd*G[0,k])/mass\n",
    "\n",
    "    return f\n",
    "\n",
    "def dF_matrix(y):\n",
    "\n",
    "    n=y.size\n",
    "    dF=np.zeros((6,6))\n",
    "\n",
    "    xp=np.array([y[3],y[4],y[5]])[np.newaxis]\n",
    "\n",
    "    mass=1.\n",
    "    F1=0.\n",
    "    F2=0.\n",
    "    F3=-mass*9.8\n",
    "    F=np.array([F1,F2,F3])[np.newaxis]\n",
    "\n",
    "    phix=2.*y[0]\n",
    "    phiy=2.*y[1]\n",
    "    phiz=2.*y[2]\n",
    "    G=np.array([phix,phiy,phiz])[np.newaxis]\n",
    "\n",
    "    H=2.*np.eye(3)\n",
    "    lambd=(mass*np.dot(xp,np.dot(H,xp.T))+np.dot(F,G.T))/np.dot(G,G.T)\n",
    "\n",
    "    dF[0,3]=1\n",
    "    dF[1,4]=1\n",
    "    dF[2,5]=1\n",
    "    dF[3,0]=(y[0]*F1+2*lambd)/mass\n",
    "    dF[3,1]=(y[0]*F2)/mass\n",
    "    dF[3,2]=(y[0]*F3)/mass\n",
    "    dF[3,3]=phix*y[3]\n",
    "    dF[3,4]=phix*y[4]\n",
    "    dF[3,5]=phix*y[5]\n",
    "    dF[4,0]=(y[1]*F1)/mass\n",
    "    dF[4,1]=(y[1]*F2+2*lambd)/mass\n",
    "    dF[4,2]=(y[1]*F3)/mass\n",
    "    dF[4,3]=phiy*y[3]\n",
    "    dF[4,4]=phiy*y[4]\n",
    "    dF[4,5]=phiy*y[5]\n",
    "    dF[5,0]=(y[2]*F1)/mass\n",
    "    dF[5,1]=(y[2]*F2)/mass\n",
    "    dF[5,2]=(y[2]*F3+2*lambd)/mass\n",
    "    dF[5,3]=phiz*y[3]\n",
    "    dF[5,4]=phiz*y[4]\n",
    "    dF[5,5]=phiz*y[5]\n",
    "\n",
    "    return dF_matrix\n"
   ]
  }
 ],
 "metadata": {
  "interpreter": {
   "hash": "80961c1ed3bd40c5a00c9b4695fb3a01065bf34ab5b62df18ae38e1a502f2cfa"
  },
  "kernelspec": {
   "display_name": "Python 3.10.4 64-bit",
   "language": "python",
   "name": "python3"
  },
  "language_info": {
   "codemirror_mode": {
    "name": "ipython",
    "version": 3
   },
   "file_extension": ".py",
   "mimetype": "text/x-python",
   "name": "python",
   "nbconvert_exporter": "python",
   "pygments_lexer": "ipython3",
   "version": "3.9.2"
  },
  "orig_nbformat": 4
 },
 "nbformat": 4,
 "nbformat_minor": 2
}
