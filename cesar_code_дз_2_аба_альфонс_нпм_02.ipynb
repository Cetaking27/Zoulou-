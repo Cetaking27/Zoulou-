{
 "metadata": {
  "language_info": {
   "codemirror_mode": {
    "name": "ipython",
    "version": 3
   },
   "file_extension": ".py",
   "mimetype": "text/x-python",
   "name": "python",
   "nbconvert_exporter": "python",
   "pygments_lexer": "ipython3",
   "version": "3.9.0"
  },
  "orig_nbformat": 4,
  "kernelspec": {
   "name": "python3",
   "display_name": "Python 3.9.0 64-bit"
  },
  "interpreter": {
   "hash": "ee5cc6fef2d70a7e71ee3826687cbd150f18158e0b1eef11d4f4f92bb920e304"
  }
 },
 "nbformat": 4,
 "nbformat_minor": 2,
 "cells": [
  {
   "cell_type": "code",
   "execution_count": 13,
   "metadata": {},
   "outputs": [],
   "source": [
    "#ШИФР СЕЦАР\n",
    "#1 зашифрованное :\n",
    "def encrypt_caesar(plaintext: str, shift: int = 3) -> str:\n",
    "   \n",
    "    ciphertext = \"\"\n",
    "    # PUT YOUR CODE HERE\n",
    "    return ciphertext\n"
   ]
  },
  {
   "cell_type": "code",
   "execution_count": 14,
   "metadata": {},
   "outputs": [],
   "source": [
    "#2 рашрифрованное :\n",
    "def decrypt_caesar(ciphertext: str, shift: int = 3) -> str:\n",
    "    plaintext = \"\"\n",
    "    # PUT YOUR CODE HERE\n",
    "    return plaintext"
   ]
  },
  {
   "cell_type": "code",
   "execution_count": 59,
   "metadata": {},
   "outputs": [
    {
     "output_type": "stream",
     "name": "stdout",
     "text": [
      "S\\WKRQ \n"
     ]
    }
   ],
   "source": [
    "#польный код заширофки и рашрирофкм сецар\n",
    "def encrypt_caesar(Plaintext: str,shift: int) -> str:\n",
    "    ciphertext = ''\n",
    "\n",
    "    try:\n",
    "        for char in Plaintext:\n",
    "            ciphertext += str(chr(ord(char)+int(shift)))\n",
    "    except:\n",
    "        print(Exception)\n",
    "        pass\n",
    "    \n",
    "    return ciphertext\n",
    "\n",
    "def decrypt_caesar(ciphertext: str,shift: int) -> str:\n",
    "    plaintext = ''\n",
    "\n",
    "    try:\n",
    "        for char in plaintext:\n",
    "            plaintext += chr(ord(char)-int(shift))\n",
    "    except:\n",
    "        print(Exception)\n",
    "        pass\n",
    "\n",
    "    return plaintext\n",
    "\n",
    "  \n",
    "a = encrypt_caesar(\"PYTHON\", shift=3)\n",
    "b = decrypt_caesar(a, shift=4)\n",
    "print (a, b)"
   ]
  },
  {
   "cell_type": "code",
   "execution_count": 31,
   "metadata": {},
   "outputs": [],
   "source": [
    " #3 взлома шифра :\n",
    " def caesar_breaker(ciphertext: str, dictionary: tp.Set[str]) -> int:\n",
    "   \n",
    "    best_shift = 0\n",
    "    # PUT YOUR CODE HERE\n",
    "    return best_shift"
   ]
  }
 ]
}