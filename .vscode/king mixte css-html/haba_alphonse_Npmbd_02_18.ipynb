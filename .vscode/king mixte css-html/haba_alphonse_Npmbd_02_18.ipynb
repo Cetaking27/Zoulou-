{
 "metadata": {
  "language_info": {
   "codemirror_mode": {
    "name": "ipython",
    "version": 3
   },
   "file_extension": ".py",
   "mimetype": "text/x-python",
   "name": "python",
   "nbconvert_exporter": "python",
   "pygments_lexer": "ipython3",
   "version": "3.9.0-final"
  },
  "orig_nbformat": 2,
  "kernelspec": {
   "name": "python3",
   "display_name": "Python 3.9.0 64-bit",
   "metadata": {
    "interpreter": {
     "hash": "ee5cc6fef2d70a7e71ee3826687cbd150f18158e0b1eef11d4f4f92bb920e304"
    }
   }
  }
 },
 "nbformat": 4,
 "nbformat_minor": 2,
 "cells": [
  {
   "cell_type": "code",
   "execution_count": 10,
   "metadata": {},
   "outputs": [
    {
     "output_type": "stream",
     "name": "stdout",
     "text": [
      "['1', '3', '5']\n"
     ]
    }
   ],
   "source": [
    "##задача номер 1;\n",
    "A = input().split()\n",
    "print(''.join(input()).split()[::2])"
   ]
  },
  {
   "cell_type": "code",
   "execution_count": null,
   "metadata": {},
   "outputs": [],
   "source": [
    " "
   ]
  },
  {
   "cell_type": "code",
   "execution_count": 2,
   "metadata": {},
   "outputs": [
    {
     "output_type": "stream",
     "name": "stdout",
     "text": [
      "(2, 3)\n"
     ]
    }
   ],
   "source": [
    "##задача номер 2; \n",
    "A = list(map(int, input().split()))\n",
    "print(max(enumerate(A), key=lambda tpl: tpl[1]))"
   ]
  },
  {
   "cell_type": "code",
   "execution_count": 3,
   "metadata": {},
   "outputs": [
    {
     "output_type": "stream",
     "name": "stdout",
     "text": [
      "54321\n"
     ]
    }
   ],
   "source": [
    "##задача номер 3;\n",
    "A = input().split()\n",
    "print(''.join(A)[::-1])"
   ]
  },
  {
   "cell_type": "code",
   "execution_count": 29,
   "metadata": {},
   "outputs": [
    {
     "output_type": "stream",
     "name": "stdout",
     "text": [
      "21435\n"
     ]
    }
   ],
   "source": [
    "##задача номер 4;\n",
    "A = input().split()\n",
    "k = len(A)%2\n",
    "A[:len(A)-k:2], A[1:len(A)-k:2] = A[1:len(A)-k:2], A[:len(A)-k:2]\n",
    "print(''.join([str(i) for i in A]))"
   ]
  },
  {
   "cell_type": "code",
   "execution_count": 1,
   "metadata": {},
   "outputs": [
    {
     "output_type": "error",
     "ename": "IndentationError",
     "evalue": "unexpected indent (<ipython-input-1-0f9ce7faf04f>, line 2)",
     "traceback": [
      "\u001b[1;36m  File \u001b[1;32m\"<ipython-input-1-0f9ce7faf04f>\"\u001b[1;36m, line \u001b[1;32m2\u001b[0m\n\u001b[1;33m    A = input().split()\u001b[0m\n\u001b[1;37m    ^\u001b[0m\n\u001b[1;31mIndentationError\u001b[0m\u001b[1;31m:\u001b[0m unexpected indent\n"
     ]
    }
   ],
   "source": [
    " ##задача номер 5;\n",
    "  A=input().split()\n",
    "print(' '.join(A[-1::]),' '.join(A[:-1:]))"
   ]
  },
  {
   "cell_type": "code",
   "execution_count": 15,
   "metadata": {},
   "outputs": [
    {
     "output_type": "stream",
     "name": "stdout",
     "text": [
      "[7, 6, 4, 3, 2, 1]\n"
     ]
    }
   ],
   "source": [
    "##задача номер 6;\n",
    "A = list(map(int, input().split()))\n",
    "del A[2]\n",
    "print(A)\n"
   ]
  },
  {
   "cell_type": "code",
   "execution_count": 18,
   "metadata": {},
   "outputs": [
    {
     "output_type": "error",
     "ename": "SyntaxError",
     "evalue": "cannot assign to literal (<ipython-input-18-f105a13e414a>, line 3)",
     "traceback": [
      "\u001b[1;36m  File \u001b[1;32m\"<ipython-input-18-f105a13e414a>\"\u001b[1;36m, line \u001b[1;32m3\u001b[0m\n\u001b[1;33m    n = 0, elem = map(int, input().split())\u001b[0m\n\u001b[1;37m        ^\u001b[0m\n\u001b[1;31mSyntaxError\u001b[0m\u001b[1;31m:\u001b[0m cannot assign to literal\n"
     ]
    }
   ],
   "source": [
    "##задача номер 7; \n",
    " A=input().split()\n",
    "n, elem = map(int, input().split())\n",
    "print(' '.join(A[:n:]),elem,' '.join(A[n+1::]))"
   ]
  },
  {
   "cell_type": "code",
   "execution_count": null,
   "metadata": {},
   "outputs": [],
   "source": [
    "##задача номер 8; \n",
    "A=input().split()\n",
    "B=int(input())\n",
    "print(' '.join(A[B-1::]),' '.join(A[:B-1:]))\n"
   ]
  },
  {
   "cell_type": "code",
   "execution_count": null,
   "metadata": {},
   "outputs": [],
   "source": []
  },
  {
   "cell_type": "code",
   "execution_count": null,
   "metadata": {},
   "outputs": [],
   "source": []
  }
 ]
}