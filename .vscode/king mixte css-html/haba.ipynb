import numpy as numpy
import numpy as math 
