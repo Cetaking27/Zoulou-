{
 "cells": [
  {
   "cell_type": "code",
   "execution_count": 136,
   "metadata": {},
   "outputs": [],
   "source": [
    "import numpy as np\n",
    "import math as m\n",
    "import matplotlib.pyplot as plt"
   ]
  },
  {
   "cell_type": "code",
   "execution_count": 137,
   "metadata": {},
   "outputs": [],
   "source": [
    "curr_x = [1,1.9,2.8,3.7,4.6]"
   ]
  },
  {
   "cell_type": "code",
   "execution_count": 138,
   "metadata": {},
   "outputs": [],
   "source": [
    "curr_y = [1.9823,1.6710,1.3694,1.0472,0.64350]"
   ]
  },
  {
   "cell_type": "code",
   "execution_count": 139,
   "metadata": {},
   "outputs": [],
   "source": [
    "curr_x = [1,1.9,2.8,3.7,4.6]\n",
    "curr_y = [1.9823,1.6710,1.3694,1.0472,0.64350]"
   ]
  },
  {
   "cell_type": "code",
   "execution_count": 140,
   "metadata": {},
   "outputs": [],
   "source": [
    "point_X=2.6667"
   ]
  },
  {
   "cell_type": "code",
   "execution_count": 141,
   "metadata": {},
   "outputs": [],
   "source": [
    "def spline(x, y):\n",
    "    x = np.array(x)\n",
    "    y = np.array(y)\n",
    "    A = np.zeros((len(x), len(x)))\n",
    "    b = np.zeros((len(y), 1))\n",
    "    A[0, 0] = 1\n",
    "    A[-1, -1] = 1\n",
    "    delta_x = []\n",
    "    delta_y = []\n",
    "\n",
    "    for i in range(1, len(x)):\n",
    "        delta_x.append(x[i] - x[i-1])\n",
    "        delta_y.append(y[i] - y[i-1])\n",
    "\n",
    "    delta_x = np.array(delta_x)\n",
    "    delta_y = np.array(delta_y)\n",
    "\n",
    "    for i in range(1, len(x) - 1):\n",
    "        b[i, 0] = (delta_y[i] / delta_x[i]) - (delta_y[i-1] / delta_x[i-1])\n",
    "        A[i, i] = (delta_x[i-1] + delta_x[i]) / 3\n",
    "        A[i, i+1] = (delta_x[i])/6\n",
    "        A[i, i-1] = delta_x[i-1] / 6\n",
    "    m = np.linalg.solve(A, b)\n",
    "\n",
    "    return m\n",
    " "
   ]
  },
  {
   "cell_type": "code",
   "execution_count": 142,
   "metadata": {},
   "outputs": [],
   "source": [
    "def value(xarray, yarray, x, m):\n",
    "    i = 0\n",
    "    while (xarray[i] < x):\n",
    "        i += 1\n",
    "    deltax = xarray[i] - xarray[i-1]\n",
    "    xi = xarray[i]-x\n",
    "    xj = x-xarray[i-1]\n",
    "    res = (xi)/deltax*yarray[i-1] + (xj)/deltax*yarray[i] + ((xi**3) - (\n",
    "        deltax**2)*xi)/(6*deltax)*m[i-1] + ((xj**3) - (deltax**2)*xj)/(6*deltax)*m[i]\n",
    "    return res"
   ]
  },
  {
   "cell_type": "code",
   "execution_count": 143,
   "metadata": {},
   "outputs": [
    {
     "name": "stdout",
     "output_type": "stream",
     "text": [
      "[1.41386851]\n"
     ]
    }
   ],
   "source": [
    "m = spline(curr_x,curr_y)\n",
    "res = value(curr_x,curr_y, point_X, m)\n",
    "print(res)"
   ]
  },
  {
   "cell_type": "code",
   "execution_count": null,
   "metadata": {},
   "outputs": [],
   "source": []
  },
  {
   "cell_type": "code",
   "execution_count": null,
   "metadata": {},
   "outputs": [],
   "source": []
  },
  {
   "cell_type": "code",
   "execution_count": null,
   "metadata": {},
   "outputs": [],
   "source": []
  }
 ],
 "metadata": {
  "kernelspec": {
   "display_name": "Python 3",
   "language": "python",
   "name": "python3"
  },
  "language_info": {
   "codemirror_mode": {
    "name": "ipython",
    "version": 3
   },
   "file_extension": ".py",
   "mimetype": "text/x-python",
   "name": "python",
   "nbconvert_exporter": "python",
   "pygments_lexer": "ipython3",
   "version": "3.8.3"
  }
 },
 "nbformat": 4,
 "nbformat_minor": 4
}
